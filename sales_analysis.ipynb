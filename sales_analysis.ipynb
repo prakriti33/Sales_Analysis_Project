{
 "cells": [
  {
   "cell_type": "code",
   "execution_count": 1,
   "id": "7ae12e01-2527-42eb-9a00-0cb40ba1f4eb",
   "metadata": {},
   "outputs": [
    {
     "name": "stdout",
     "output_type": "stream",
     "text": [
      "  InvoiceNo StockCode                          Description  Quantity  \\\n",
      "0    536365    85123A   WHITE HANGING HEART T-LIGHT HOLDER         6   \n",
      "1    536365     71053                  WHITE METAL LANTERN         6   \n",
      "2    536365    84406B       CREAM CUPID HEARTS COAT HANGER         8   \n",
      "3    536365    84029G  KNITTED UNION FLAG HOT WATER BOTTLE         6   \n",
      "4    536365    84029E       RED WOOLLY HOTTIE WHITE HEART.         6   \n",
      "\n",
      "      InvoiceDate  UnitPrice  CustomerID         Country  \n",
      "0  12/1/2010 8:26       2.55     17850.0  United Kingdom  \n",
      "1  12/1/2010 8:26       3.39     17850.0  United Kingdom  \n",
      "2  12/1/2010 8:26       2.75     17850.0  United Kingdom  \n",
      "3  12/1/2010 8:26       3.39     17850.0  United Kingdom  \n",
      "4  12/1/2010 8:26       3.39     17850.0  United Kingdom  \n"
     ]
    }
   ],
   "source": [
    "import pandas as pd\n",
    "\n",
    "df = pd.read_csv('data.csv', encoding='latin1')\n",
    "print(df.head())\n"
   ]
  },
  {
   "cell_type": "code",
   "execution_count": 2,
   "id": "18e6c590-5844-48dd-9843-cc5036fd1a67",
   "metadata": {},
   "outputs": [
    {
     "name": "stdout",
     "output_type": "stream",
     "text": [
      "(541909, 8)\n"
     ]
    }
   ],
   "source": [
    "print(df.shape)"
   ]
  },
  {
   "cell_type": "code",
   "execution_count": 3,
   "id": "90921e9a-0179-4bf0-a33e-1d7a899465a2",
   "metadata": {},
   "outputs": [
    {
     "name": "stdout",
     "output_type": "stream",
     "text": [
      "            Quantity      UnitPrice     CustomerID\n",
      "count  541909.000000  541909.000000  406829.000000\n",
      "mean        9.552250       4.611114   15287.690570\n",
      "std       218.081158      96.759853    1713.600303\n",
      "min    -80995.000000  -11062.060000   12346.000000\n",
      "25%         1.000000       1.250000   13953.000000\n",
      "50%         3.000000       2.080000   15152.000000\n",
      "75%        10.000000       4.130000   16791.000000\n",
      "max     80995.000000   38970.000000   18287.000000\n"
     ]
    }
   ],
   "source": [
    "print(df.describe())\n"
   ]
  },
  {
   "cell_type": "code",
   "execution_count": 4,
   "id": "55aeb5c0-443f-4f6b-9f4c-2b2984825a62",
   "metadata": {},
   "outputs": [
    {
     "name": "stdout",
     "output_type": "stream",
     "text": [
      "InvoiceNo           0\n",
      "StockCode           0\n",
      "Description      1454\n",
      "Quantity            0\n",
      "InvoiceDate         0\n",
      "UnitPrice           0\n",
      "CustomerID     135080\n",
      "Country             0\n",
      "dtype: int64\n"
     ]
    }
   ],
   "source": [
    "print(df.isnull().sum())"
   ]
  },
  {
   "cell_type": "code",
   "execution_count": 5,
   "id": "dc743877-2880-4fbd-a527-5e577a0404d6",
   "metadata": {},
   "outputs": [
    {
     "name": "stdout",
     "output_type": "stream",
     "text": [
      "<class 'pandas.core.frame.DataFrame'>\n",
      "Index: 397884 entries, 0 to 541908\n",
      "Data columns (total 8 columns):\n",
      " #   Column       Non-Null Count   Dtype         \n",
      "---  ------       --------------   -----         \n",
      " 0   InvoiceNo    397884 non-null  object        \n",
      " 1   StockCode    397884 non-null  object        \n",
      " 2   Description  397884 non-null  object        \n",
      " 3   Quantity     397884 non-null  int64         \n",
      " 4   InvoiceDate  397884 non-null  datetime64[ns]\n",
      " 5   UnitPrice    397884 non-null  float64       \n",
      " 6   CustomerID   397884 non-null  float64       \n",
      " 7   Country      397884 non-null  object        \n",
      "dtypes: datetime64[ns](1), float64(2), int64(1), object(4)\n",
      "memory usage: 27.3+ MB\n",
      "None\n",
      "(397884, 8)\n"
     ]
    }
   ],
   "source": [
    "\n",
    "df = df.dropna(subset=['CustomerID'])\n",
    "\n",
    "\n",
    "df = df[(df['Quantity'] > 0) & (df['UnitPrice'] > 0)]\n",
    "\n",
    "\n",
    "df['InvoiceDate'] = pd.to_datetime(df['InvoiceDate'], format='%m/%d/%Y %H:%M')\n",
    "\n",
    "\n",
    "print(df.info())\n",
    "print(df.shape)\n"
   ]
  },
  {
   "cell_type": "code",
   "execution_count": 6,
   "id": "e7f9ba4b-b274-4578-a305-758a0d4e2cc5",
   "metadata": {},
   "outputs": [
    {
     "name": "stdout",
     "output_type": "stream",
     "text": [
      "   Quantity  UnitPrice  TotalPrice\n",
      "0         6       2.55       15.30\n",
      "1         6       3.39       20.34\n",
      "2         8       2.75       22.00\n",
      "3         6       3.39       20.34\n",
      "4         6       3.39       20.34\n"
     ]
    }
   ],
   "source": [
    "df['TotalPrice'] = df['Quantity'] * df['UnitPrice']\n",
    "print(df[['Quantity', 'UnitPrice', 'TotalPrice']].head())\n"
   ]
  },
  {
   "cell_type": "code",
   "execution_count": 7,
   "id": "f3e07da0-b2e6-4c0f-bd13-e420b7c6782c",
   "metadata": {},
   "outputs": [
    {
     "name": "stdout",
     "output_type": "stream",
     "text": [
      "Country\n",
      "United Kingdom          7308391.554\n",
      "Netherlands              285446.340\n",
      "EIRE                     265545.900\n",
      "Germany                  228867.140\n",
      "France                   209024.050\n",
      "Australia                138521.310\n",
      "Spain                     61577.110\n",
      "Switzerland               56443.950\n",
      "Belgium                   41196.340\n",
      "Sweden                    38378.330\n",
      "Japan                     37416.370\n",
      "Norway                    36165.440\n",
      "Portugal                  33439.890\n",
      "Finland                   22546.080\n",
      "Singapore                 21279.290\n",
      "Channel Islands           20450.440\n",
      "Denmark                   18955.340\n",
      "Italy                     17483.240\n",
      "Cyprus                    13590.380\n",
      "Austria                   10198.680\n",
      "Poland                     7334.650\n",
      "Israel                     7221.690\n",
      "Greece                     4760.520\n",
      "Iceland                    4310.000\n",
      "Canada                     3666.380\n",
      "USA                        3580.390\n",
      "Malta                      2725.590\n",
      "Unspecified                2667.070\n",
      "United Arab Emirates       1902.280\n",
      "Lebanon                    1693.880\n",
      "Lithuania                  1661.060\n",
      "European Community         1300.250\n",
      "Brazil                     1143.600\n",
      "RSA                        1002.310\n",
      "Czech Republic              826.740\n",
      "Bahrain                     548.400\n",
      "Saudi Arabia                145.920\n",
      "Name: TotalPrice, dtype: float64\n"
     ]
    }
   ],
   "source": [
    "country_sales = df.groupby('Country')['TotalPrice'].sum().sort_values(ascending=False)\n",
    "print(country_sales)\n",
    "\n"
   ]
  },
  {
   "cell_type": "code",
   "execution_count": 8,
   "id": "4a96f163-2267-439a-9987-67453707dc80",
   "metadata": {},
   "outputs": [
    {
     "name": "stdout",
     "output_type": "stream",
     "text": [
      "Description\n",
      "PAPER CRAFT , LITTLE BIRDIE           168469.60\n",
      "REGENCY CAKESTAND 3 TIER              142592.95\n",
      "WHITE HANGING HEART T-LIGHT HOLDER    100448.15\n",
      "JUMBO BAG RED RETROSPOT                85220.78\n",
      "MEDIUM CERAMIC TOP STORAGE JAR         81416.73\n",
      "POSTAGE                                77803.96\n",
      "PARTY BUNTING                          68844.33\n",
      "ASSORTED COLOUR BIRD ORNAMENT          56580.34\n",
      "Manual                                 53779.93\n",
      "RABBIT NIGHT LIGHT                     51346.20\n",
      "Name: TotalPrice, dtype: float64\n"
     ]
    }
   ],
   "source": [
    "product_sales = df.groupby('Description')['TotalPrice'].sum().sort_values(ascending=False).head(10)\n",
    "print(product_sales)\n",
    "\n"
   ]
  },
  {
   "cell_type": "code",
   "execution_count": 9,
   "id": "a340b276-76d7-4554-bf89-143a612c084c",
   "metadata": {},
   "outputs": [
    {
     "name": "stdout",
     "output_type": "stream",
     "text": [
      "(397884, 9)\n"
     ]
    }
   ],
   "source": [
    "\n",
    "df_clean = df[(df['Quantity'] > 0) & (df['UnitPrice'] > 0)].copy()\n",
    "\n",
    "\n",
    "print(df_clean.shape)\n"
   ]
  },
  {
   "cell_type": "code",
   "execution_count": 15,
   "id": "e4fcf8f3-086d-4ddd-a263-a0ba2382463d",
   "metadata": {},
   "outputs": [
    {
     "name": "stdout",
     "output_type": "stream",
     "text": [
      "CustomerID\n",
      "14646.0    280206.02\n",
      "18102.0    259657.30\n",
      "17450.0    194550.79\n",
      "16446.0    168472.50\n",
      "14911.0    143825.06\n",
      "12415.0    124914.53\n",
      "14156.0    117379.63\n",
      "17511.0     91062.38\n",
      "16029.0     81024.84\n",
      "12346.0     77183.60\n",
      "Name: TotalPrice, dtype: float64\n"
     ]
    }
   ],
   "source": [
    "\n",
    "customer_sales = df_clean.groupby('CustomerID')['TotalPrice'].sum().sort_values(ascending=False)\n",
    "\n",
    "\n",
    "print(customer_sales.head(10))\n",
    "\n"
   ]
  },
  {
   "cell_type": "code",
   "execution_count": null,
   "id": "a57e9da1-26c5-4347-9d91-03dece28faae",
   "metadata": {},
   "outputs": [],
   "source": []
  },
  {
   "cell_type": "code",
   "execution_count": 17,
   "id": "16791d55-9426-4ca5-99d3-f5f2e7ab481c",
   "metadata": {},
   "outputs": [
    {
     "data": {
      "image/png": "[encoded data removed]",
      "text/plain": [
       "<Figure size 1200x600 with 1 Axes>"
      ]
     },
     "metadata": {},
     "output_type": "display_data"
    }
   ],
   "source": [
    "import matplotlib.pyplot as plt\n",
    "\n",
    "customer_sales = df.groupby('CustomerID')['TotalPrice'].sum().sort_values(ascending=False)\n",
    "top_customers = customer_sales.head(10)\n",
    "\n",
    "plt.figure(figsize=(12,6))\n",
    "bars = plt.bar(top_customers.index.astype(str), top_customers.values, color='teal')\n",
    "\n",
    "plt.title(\"Top 10 Customers by Total Sales\", fontsize=16, fontweight='bold')\n",
    "plt.xlabel(\"Customer ID\", fontsize=12)\n",
    "plt.ylabel(\"Total Sales ($)\", fontsize=12)\n",
    "plt.xticks(rotation=45)\n",
    "plt.grid(axis='y', linestyle='--', alpha=0.7)\n",
    "\n",
    "for bar in bars:\n",
    "    yval = bar.get_height()\n",
    "    plt.text(bar.get_x() + bar.get_width()/2, yval + 5000, f'{yval:,.0f}', ha='center', va='bottom', fontsize=10)\n",
    "\n",
    "plt.tight_layout()\n",
    "plt.show()\n",
    "\n"
   ]
  },
  {
   "cell_type": "code",
   "execution_count": null,
   "id": "494ab3b6-86ad-4fc9-a85b-09fd3925380d",
   "metadata": {},
   "outputs": [],
   "source": []
  }
 ],
 "metadata": {
  "kernelspec": {
   "display_name": "Python 3 (ipykernel)",
   "language": "python",
   "name": "python3"
  },
  "language_info": {
   "codemirror_mode": {
    "name": "ipython",
    "version": 3
   },
   "file_extension": ".py",
   "mimetype": "text/x-python",
   "name": "python",
   "nbconvert_exporter": "python",
   "pygments_lexer": "ipython3",
   "version": "3.13.1"
  }
 },
 "nbformat": 4,
 "nbformat_minor": 5
}
